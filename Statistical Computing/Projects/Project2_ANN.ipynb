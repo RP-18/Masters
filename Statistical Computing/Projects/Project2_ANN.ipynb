{
 "cells": [
  {
   "cell_type": "markdown",
   "metadata": {},
   "source": [
    "# Project 2 - Rodrigo Petricioli"
   ]
  },
  {
   "cell_type": "markdown",
   "metadata": {},
   "source": [
    "### Import Relevant Libraries"
   ]
  },
  {
   "cell_type": "code",
   "execution_count": 1,
   "metadata": {},
   "outputs": [],
   "source": [
    "import numpy as np\n",
    "import pandas as pd\n",
    "import matplotlib.pyplot as plt\n",
    "import seaborn as sns\n",
    "from sklearn.model_selection import train_test_split\n",
    "from sklearn.preprocessing import MinMaxScaler\n",
    "from sklearn.metrics import classification_report,confusion_matrix"
   ]
  },
  {
   "cell_type": "code",
   "execution_count": 2,
   "metadata": {},
   "outputs": [],
   "source": [
    "import tensorflow as tf\n",
    "from tensorflow.keras.models import Sequential\n",
    "from tensorflow.keras.models import load_model\n",
    "from tensorflow.keras.layers import Dense, Dropout\n",
    "from tensorflow.keras.callbacks import EarlyStopping"
   ]
  },
  {
   "cell_type": "markdown",
   "metadata": {},
   "source": [
    "### Upload Data"
   ]
  },
  {
   "cell_type": "code",
   "execution_count": 3,
   "metadata": {},
   "outputs": [],
   "source": [
    "X = pd.read_csv('loan_X_train.csv', header=None)\n",
    "y = pd.read_csv('loan_y_train.csv', header=None)"
   ]
  },
  {
   "cell_type": "code",
   "execution_count": 4,
   "metadata": {},
   "outputs": [
    {
     "data": {
      "text/html": [
       "<div>\n",
       "<style scoped>\n",
       "    .dataframe tbody tr th:only-of-type {\n",
       "        vertical-align: middle;\n",
       "    }\n",
       "\n",
       "    .dataframe tbody tr th {\n",
       "        vertical-align: top;\n",
       "    }\n",
       "\n",
       "    .dataframe thead th {\n",
       "        text-align: right;\n",
       "    }\n",
       "</style>\n",
       "<table border=\"1\" class=\"dataframe\">\n",
       "  <thead>\n",
       "    <tr style=\"text-align: right;\">\n",
       "      <th></th>\n",
       "      <th>0</th>\n",
       "      <th>1</th>\n",
       "      <th>2</th>\n",
       "      <th>3</th>\n",
       "      <th>4</th>\n",
       "      <th>5</th>\n",
       "      <th>6</th>\n",
       "      <th>7</th>\n",
       "      <th>8</th>\n",
       "      <th>9</th>\n",
       "      <th>...</th>\n",
       "      <th>68</th>\n",
       "      <th>69</th>\n",
       "      <th>70</th>\n",
       "      <th>71</th>\n",
       "      <th>72</th>\n",
       "      <th>73</th>\n",
       "      <th>74</th>\n",
       "      <th>75</th>\n",
       "      <th>76</th>\n",
       "      <th>77</th>\n",
       "    </tr>\n",
       "  </thead>\n",
       "  <tbody>\n",
       "    <tr>\n",
       "      <th>0</th>\n",
       "      <td>0.844231</td>\n",
       "      <td>1.0</td>\n",
       "      <td>0.610440</td>\n",
       "      <td>0.590574</td>\n",
       "      <td>0.012039</td>\n",
       "      <td>0.001982</td>\n",
       "      <td>0.123596</td>\n",
       "      <td>0.000000</td>\n",
       "      <td>0.007958</td>\n",
       "      <td>0.590820</td>\n",
       "      <td>...</td>\n",
       "      <td>0.0</td>\n",
       "      <td>0.0</td>\n",
       "      <td>1.0</td>\n",
       "      <td>0.0</td>\n",
       "      <td>0.0</td>\n",
       "      <td>0.0</td>\n",
       "      <td>0.0</td>\n",
       "      <td>0.0</td>\n",
       "      <td>0.0</td>\n",
       "      <td>0.796610</td>\n",
       "    </tr>\n",
       "    <tr>\n",
       "      <th>1</th>\n",
       "      <td>0.348718</td>\n",
       "      <td>0.0</td>\n",
       "      <td>0.485002</td>\n",
       "      <td>0.330485</td>\n",
       "      <td>0.005111</td>\n",
       "      <td>0.002140</td>\n",
       "      <td>0.112360</td>\n",
       "      <td>0.000000</td>\n",
       "      <td>0.007318</td>\n",
       "      <td>0.435410</td>\n",
       "      <td>...</td>\n",
       "      <td>0.0</td>\n",
       "      <td>0.0</td>\n",
       "      <td>0.0</td>\n",
       "      <td>0.0</td>\n",
       "      <td>0.0</td>\n",
       "      <td>0.0</td>\n",
       "      <td>1.0</td>\n",
       "      <td>0.0</td>\n",
       "      <td>0.0</td>\n",
       "      <td>0.881356</td>\n",
       "    </tr>\n",
       "    <tr>\n",
       "      <th>2</th>\n",
       "      <td>0.871795</td>\n",
       "      <td>1.0</td>\n",
       "      <td>0.540319</td>\n",
       "      <td>0.586581</td>\n",
       "      <td>0.016663</td>\n",
       "      <td>0.001140</td>\n",
       "      <td>0.078652</td>\n",
       "      <td>0.011628</td>\n",
       "      <td>0.005096</td>\n",
       "      <td>0.310164</td>\n",
       "      <td>...</td>\n",
       "      <td>0.0</td>\n",
       "      <td>0.0</td>\n",
       "      <td>0.0</td>\n",
       "      <td>0.0</td>\n",
       "      <td>0.0</td>\n",
       "      <td>1.0</td>\n",
       "      <td>0.0</td>\n",
       "      <td>0.0</td>\n",
       "      <td>0.0</td>\n",
       "      <td>0.542373</td>\n",
       "    </tr>\n",
       "    <tr>\n",
       "      <th>3</th>\n",
       "      <td>0.282051</td>\n",
       "      <td>0.0</td>\n",
       "      <td>0.238411</td>\n",
       "      <td>0.243592</td>\n",
       "      <td>0.008681</td>\n",
       "      <td>0.001121</td>\n",
       "      <td>0.202247</td>\n",
       "      <td>0.000000</td>\n",
       "      <td>0.009839</td>\n",
       "      <td>0.241311</td>\n",
       "      <td>...</td>\n",
       "      <td>0.0</td>\n",
       "      <td>0.0</td>\n",
       "      <td>1.0</td>\n",
       "      <td>0.0</td>\n",
       "      <td>0.0</td>\n",
       "      <td>0.0</td>\n",
       "      <td>0.0</td>\n",
       "      <td>0.0</td>\n",
       "      <td>0.0</td>\n",
       "      <td>0.881356</td>\n",
       "    </tr>\n",
       "    <tr>\n",
       "      <th>4</th>\n",
       "      <td>0.179487</td>\n",
       "      <td>0.0</td>\n",
       "      <td>0.064277</td>\n",
       "      <td>0.144951</td>\n",
       "      <td>0.010082</td>\n",
       "      <td>0.000377</td>\n",
       "      <td>0.168539</td>\n",
       "      <td>0.000000</td>\n",
       "      <td>0.001766</td>\n",
       "      <td>0.041967</td>\n",
       "      <td>...</td>\n",
       "      <td>0.0</td>\n",
       "      <td>0.0</td>\n",
       "      <td>0.0</td>\n",
       "      <td>0.0</td>\n",
       "      <td>0.0</td>\n",
       "      <td>0.0</td>\n",
       "      <td>0.0</td>\n",
       "      <td>1.0</td>\n",
       "      <td>0.0</td>\n",
       "      <td>0.593220</td>\n",
       "    </tr>\n",
       "  </tbody>\n",
       "</table>\n",
       "<p>5 rows × 78 columns</p>\n",
       "</div>"
      ],
      "text/plain": [
       "         0    1         2         3         4         5         6         7   \\\n",
       "0  0.844231  1.0  0.610440  0.590574  0.012039  0.001982  0.123596  0.000000   \n",
       "1  0.348718  0.0  0.485002  0.330485  0.005111  0.002140  0.112360  0.000000   \n",
       "2  0.871795  1.0  0.540319  0.586581  0.016663  0.001140  0.078652  0.011628   \n",
       "3  0.282051  0.0  0.238411  0.243592  0.008681  0.001121  0.202247  0.000000   \n",
       "4  0.179487  0.0  0.064277  0.144951  0.010082  0.000377  0.168539  0.000000   \n",
       "\n",
       "         8         9   ...   68   69   70   71   72   73   74   75   76  \\\n",
       "0  0.007958  0.590820  ...  0.0  0.0  1.0  0.0  0.0  0.0  0.0  0.0  0.0   \n",
       "1  0.007318  0.435410  ...  0.0  0.0  0.0  0.0  0.0  0.0  1.0  0.0  0.0   \n",
       "2  0.005096  0.310164  ...  0.0  0.0  0.0  0.0  0.0  1.0  0.0  0.0  0.0   \n",
       "3  0.009839  0.241311  ...  0.0  0.0  1.0  0.0  0.0  0.0  0.0  0.0  0.0   \n",
       "4  0.001766  0.041967  ...  0.0  0.0  0.0  0.0  0.0  0.0  0.0  1.0  0.0   \n",
       "\n",
       "         77  \n",
       "0  0.796610  \n",
       "1  0.881356  \n",
       "2  0.542373  \n",
       "3  0.881356  \n",
       "4  0.593220  \n",
       "\n",
       "[5 rows x 78 columns]"
      ]
     },
     "execution_count": 4,
     "metadata": {},
     "output_type": "execute_result"
    }
   ],
   "source": [
    "X.head()"
   ]
  },
  {
   "cell_type": "code",
   "execution_count": 5,
   "metadata": {},
   "outputs": [
    {
     "data": {
      "text/plain": [
       "0    48449\n",
       "1    48140\n",
       "Name: 0, dtype: int64"
      ]
     },
     "execution_count": 5,
     "metadata": {},
     "output_type": "execute_result"
    }
   ],
   "source": [
    "y[0].value_counts()"
   ]
  },
  {
   "cell_type": "code",
   "execution_count": 6,
   "metadata": {},
   "outputs": [
    {
     "data": {
      "image/png": "[encoded data removed]",
      "text/plain": [
       "<Figure size 432x288 with 1 Axes>"
      ]
     },
     "metadata": {
      "needs_background": "light"
     },
     "output_type": "display_data"
    }
   ],
   "source": [
    "sns.countplot(x=y[0], data=y);"
   ]
  },
  {
   "cell_type": "markdown",
   "metadata": {},
   "source": [
    "### Divide in Training and Testing Sets"
   ]
  },
  {
   "cell_type": "code",
   "execution_count": 7,
   "metadata": {},
   "outputs": [],
   "source": [
    "#Convert to Numpy Arrays\n",
    "X = X.to_numpy()\n",
    "y = y.to_numpy()"
   ]
  },
  {
   "cell_type": "code",
   "execution_count": 8,
   "metadata": {},
   "outputs": [],
   "source": [
    "np.random.seed(11235813) #Set seed to replicate results\n",
    "X_train, X_test, y_train, y_test = train_test_split(X, y, test_size=0.30, random_state=101)"
   ]
  },
  {
   "cell_type": "code",
   "execution_count": 9,
   "metadata": {},
   "outputs": [
    {
     "data": {
      "text/plain": [
       "((67612, 78), (28977, 78), (67612, 1), (28977, 1))"
      ]
     },
     "execution_count": 9,
     "metadata": {},
     "output_type": "execute_result"
    }
   ],
   "source": [
    "X_train.shape, X_test.shape, y_train.shape, y_test.shape"
   ]
  },
  {
   "cell_type": "code",
   "execution_count": 10,
   "metadata": {},
   "outputs": [
    {
     "data": {
      "text/plain": [
       "((67612, 78), numpy.ndarray)"
      ]
     },
     "execution_count": 10,
     "metadata": {},
     "output_type": "execute_result"
    }
   ],
   "source": [
    "X_train.shape, type(X_train)"
   ]
  },
  {
   "cell_type": "markdown",
   "metadata": {},
   "source": [
    "## Model"
   ]
  },
  {
   "cell_type": "code",
   "execution_count": 11,
   "metadata": {},
   "outputs": [],
   "source": [
    "model = Sequential()\n",
    "model.add(Dense(units=78,activation='tanh'))\n",
    "model.add(Dropout(0.5))\n",
    "\n",
    "model.add(Dense(units=64,activation='tanh'))\n",
    "model.add(Dropout(0.5))\n",
    "\n",
    "model.add(Dense(units=128,activation='tanh'))\n",
    "model.add(Dropout(0.5))\n",
    "\n",
    "model.add(Dense(units=1,activation='sigmoid'))\n",
    "model.compile(loss='binary_crossentropy', optimizer='adam')"
   ]
  },
  {
   "cell_type": "code",
   "execution_count": 12,
   "metadata": {},
   "outputs": [],
   "source": [
    "early_stop = EarlyStopping(monitor='val_loss', mode='min', verbose=1, patience=5)"
   ]
  },
  {
   "cell_type": "code",
   "execution_count": 13,
   "metadata": {},
   "outputs": [
    {
     "name": "stderr",
     "output_type": "stream",
     "text": [
      "2021-12-02 21:44:55.607498: I tensorflow/core/platform/cpu_feature_guard.cc:145] This TensorFlow binary is optimized with Intel(R) MKL-DNN to use the following CPU instructions in performance critical operations:  SSE4.1 SSE4.2\n",
      "To enable them in non-MKL-DNN operations, rebuild TensorFlow with the appropriate compiler flags.\n",
      "2021-12-02 21:44:55.608100: I tensorflow/core/common_runtime/process_util.cc:115] Creating new thread pool with default inter op setting: 8. Tune using inter_op_parallelism_threads for best performance.\n"
     ]
    },
    {
     "name": "stdout",
     "output_type": "stream",
     "text": [
      "Train on 67612 samples, validate on 28977 samples\n",
      "Epoch 1/300\n",
      "67612/67612 [==============================] - 2s 24us/sample - loss: 0.7350 - val_loss: 0.6593\n",
      "Epoch 2/300\n",
      "67612/67612 [==============================] - 1s 13us/sample - loss: 0.6926 - val_loss: 0.6268\n",
      "Epoch 3/300\n",
      "67612/67612 [==============================] - 1s 13us/sample - loss: 0.6631 - val_loss: 0.5937\n",
      "Epoch 4/300\n",
      "67612/67612 [==============================] - 1s 11us/sample - loss: 0.6325 - val_loss: 0.5557\n",
      "Epoch 5/300\n",
      "67612/67612 [==============================] - 1s 11us/sample - loss: 0.6053 - val_loss: 0.5168\n",
      "Epoch 6/300\n",
      "67612/67612 [==============================] - 1s 11us/sample - loss: 0.5760 - val_loss: 0.4847\n",
      "Epoch 7/300\n",
      "67612/67612 [==============================] - 1s 10us/sample - loss: 0.5538 - val_loss: 0.4599\n",
      "Epoch 8/300\n",
      "67612/67612 [==============================] - 1s 10us/sample - loss: 0.5322 - val_loss: 0.4405\n",
      "Epoch 9/300\n",
      "67612/67612 [==============================] - 1s 10us/sample - loss: 0.5143 - val_loss: 0.4260\n",
      "Epoch 10/300\n",
      "67612/67612 [==============================] - 1s 10us/sample - loss: 0.5006 - val_loss: 0.4159\n",
      "Epoch 11/300\n",
      "67612/67612 [==============================] - 1s 10us/sample - loss: 0.4909 - val_loss: 0.4091\n",
      "Epoch 12/300\n",
      "67612/67612 [==============================] - 1s 10us/sample - loss: 0.4825 - val_loss: 0.4038\n",
      "Epoch 13/300\n",
      "67612/67612 [==============================] - 1s 10us/sample - loss: 0.4702 - val_loss: 0.3994\n",
      "Epoch 14/300\n",
      "67612/67612 [==============================] - 1s 10us/sample - loss: 0.4652 - val_loss: 0.3954\n",
      "Epoch 15/300\n",
      "67612/67612 [==============================] - 1s 10us/sample - loss: 0.4581 - val_loss: 0.3918\n",
      "Epoch 16/300\n",
      "67612/67612 [==============================] - 1s 10us/sample - loss: 0.4495 - val_loss: 0.3890\n",
      "Epoch 17/300\n",
      "67612/67612 [==============================] - 1s 10us/sample - loss: 0.4469 - val_loss: 0.3861\n",
      "Epoch 18/300\n",
      "67612/67612 [==============================] - 1s 10us/sample - loss: 0.4440 - val_loss: 0.3839\n",
      "Epoch 19/300\n",
      "67612/67612 [==============================] - 1s 10us/sample - loss: 0.4383 - val_loss: 0.3820\n",
      "Epoch 20/300\n",
      "67612/67612 [==============================] - 1s 10us/sample - loss: 0.4344 - val_loss: 0.3801\n",
      "Epoch 21/300\n",
      "67612/67612 [==============================] - 1s 10us/sample - loss: 0.4304 - val_loss: 0.3790\n",
      "Epoch 22/300\n",
      "67612/67612 [==============================] - 1s 10us/sample - loss: 0.4286 - val_loss: 0.3774\n",
      "Epoch 23/300\n",
      "67612/67612 [==============================] - 1s 10us/sample - loss: 0.4233 - val_loss: 0.3767\n",
      "Epoch 24/300\n",
      "67612/67612 [==============================] - 1s 10us/sample - loss: 0.4224 - val_loss: 0.3748\n",
      "Epoch 25/300\n",
      "67612/67612 [==============================] - 1s 10us/sample - loss: 0.4200 - val_loss: 0.3737\n",
      "Epoch 26/300\n",
      "67612/67612 [==============================] - 1s 10us/sample - loss: 0.4175 - val_loss: 0.3729\n",
      "Epoch 27/300\n",
      "67612/67612 [==============================] - 1s 10us/sample - loss: 0.4158 - val_loss: 0.3720\n",
      "Epoch 28/300\n",
      "67612/67612 [==============================] - 1s 10us/sample - loss: 0.4132 - val_loss: 0.3712\n",
      "Epoch 29/300\n",
      "67612/67612 [==============================] - 1s 10us/sample - loss: 0.4107 - val_loss: 0.3703\n",
      "Epoch 30/300\n",
      "67612/67612 [==============================] - 1s 10us/sample - loss: 0.4098 - val_loss: 0.3695\n",
      "Epoch 31/300\n",
      "67612/67612 [==============================] - 1s 10us/sample - loss: 0.4066 - val_loss: 0.3688\n",
      "Epoch 32/300\n",
      "67612/67612 [==============================] - 1s 10us/sample - loss: 0.4045 - val_loss: 0.3681\n",
      "Epoch 33/300\n",
      "67612/67612 [==============================] - 1s 10us/sample - loss: 0.4042 - val_loss: 0.3675\n",
      "Epoch 34/300\n",
      "67612/67612 [==============================] - 1s 10us/sample - loss: 0.4015 - val_loss: 0.3669\n",
      "Epoch 35/300\n",
      "67612/67612 [==============================] - 1s 10us/sample - loss: 0.4010 - val_loss: 0.3665\n",
      "Epoch 36/300\n",
      "67612/67612 [==============================] - 1s 10us/sample - loss: 0.3991 - val_loss: 0.3659\n",
      "Epoch 37/300\n",
      "67612/67612 [==============================] - 1s 10us/sample - loss: 0.3968 - val_loss: 0.3656\n",
      "Epoch 38/300\n",
      "67612/67612 [==============================] - 1s 10us/sample - loss: 0.3963 - val_loss: 0.3650\n",
      "Epoch 39/300\n",
      "67612/67612 [==============================] - 1s 10us/sample - loss: 0.3947 - val_loss: 0.3643\n",
      "Epoch 40/300\n",
      "67612/67612 [==============================] - 1s 10us/sample - loss: 0.3941 - val_loss: 0.3639\n",
      "Epoch 41/300\n",
      "67612/67612 [==============================] - 1s 10us/sample - loss: 0.3935 - val_loss: 0.3636\n",
      "Epoch 42/300\n",
      "67612/67612 [==============================] - 1s 10us/sample - loss: 0.3915 - val_loss: 0.3637\n",
      "Epoch 43/300\n",
      "67612/67612 [==============================] - 1s 10us/sample - loss: 0.3900 - val_loss: 0.3629\n",
      "Epoch 44/300\n",
      "67612/67612 [==============================] - 1s 10us/sample - loss: 0.3889 - val_loss: 0.3625\n",
      "Epoch 45/300\n",
      "67612/67612 [==============================] - 1s 10us/sample - loss: 0.3886 - val_loss: 0.3625\n",
      "Epoch 46/300\n",
      "67612/67612 [==============================] - 1s 10us/sample - loss: 0.3882 - val_loss: 0.3618\n",
      "Epoch 47/300\n",
      "67612/67612 [==============================] - 1s 10us/sample - loss: 0.3863 - val_loss: 0.3615\n",
      "Epoch 48/300\n",
      "67612/67612 [==============================] - 1s 11us/sample - loss: 0.3862 - val_loss: 0.3612\n",
      "Epoch 49/300\n",
      "67612/67612 [==============================] - 1s 10us/sample - loss: 0.3841 - val_loss: 0.3610\n",
      "Epoch 50/300\n",
      "67612/67612 [==============================] - 1s 10us/sample - loss: 0.3836 - val_loss: 0.3609\n",
      "Epoch 51/300\n",
      "67612/67612 [==============================] - 1s 11us/sample - loss: 0.3830 - val_loss: 0.3606\n",
      "Epoch 52/300\n",
      "67612/67612 [==============================] - 1s 10us/sample - loss: 0.3812 - val_loss: 0.3604\n",
      "Epoch 53/300\n",
      "67612/67612 [==============================] - 1s 10us/sample - loss: 0.3810 - val_loss: 0.3599\n",
      "Epoch 54/300\n",
      "67612/67612 [==============================] - 1s 10us/sample - loss: 0.3807 - val_loss: 0.3602\n",
      "Epoch 55/300\n",
      "67612/67612 [==============================] - 1s 11us/sample - loss: 0.3809 - val_loss: 0.3597\n",
      "Epoch 56/300\n",
      "67612/67612 [==============================] - 1s 10us/sample - loss: 0.3794 - val_loss: 0.3595\n",
      "Epoch 57/300\n",
      "67612/67612 [==============================] - 1s 10us/sample - loss: 0.3793 - val_loss: 0.3597\n",
      "Epoch 58/300\n",
      "67612/67612 [==============================] - 1s 10us/sample - loss: 0.3787 - val_loss: 0.3593\n",
      "Epoch 59/300\n",
      "67612/67612 [==============================] - 1s 10us/sample - loss: 0.3784 - val_loss: 0.3592\n",
      "Epoch 60/300\n",
      "67612/67612 [==============================] - 1s 10us/sample - loss: 0.3773 - val_loss: 0.3591\n",
      "Epoch 61/300\n",
      "67612/67612 [==============================] - 1s 10us/sample - loss: 0.3762 - val_loss: 0.3588\n",
      "Epoch 62/300\n",
      "67612/67612 [==============================] - 1s 10us/sample - loss: 0.3767 - val_loss: 0.3586\n",
      "Epoch 63/300\n",
      "67612/67612 [==============================] - 1s 10us/sample - loss: 0.3759 - val_loss: 0.3584\n",
      "Epoch 64/300\n",
      "67612/67612 [==============================] - 1s 11us/sample - loss: 0.3748 - val_loss: 0.3584\n",
      "Epoch 65/300\n",
      "67612/67612 [==============================] - 1s 10us/sample - loss: 0.3741 - val_loss: 0.3584\n",
      "Epoch 66/300\n",
      "67612/67612 [==============================] - 1s 10us/sample - loss: 0.3734 - val_loss: 0.3579\n",
      "Epoch 67/300\n",
      "67612/67612 [==============================] - 1s 10us/sample - loss: 0.3734 - val_loss: 0.3580\n",
      "Epoch 68/300\n",
      "67612/67612 [==============================] - 1s 11us/sample - loss: 0.3737 - val_loss: 0.3578\n",
      "Epoch 69/300\n",
      "67612/67612 [==============================] - 1s 10us/sample - loss: 0.3740 - val_loss: 0.3590\n",
      "Epoch 70/300\n",
      "67612/67612 [==============================] - 1s 10us/sample - loss: 0.3727 - val_loss: 0.3578\n",
      "Epoch 71/300\n",
      "67612/67612 [==============================] - 1s 10us/sample - loss: 0.3723 - val_loss: 0.3580\n",
      "Epoch 72/300\n",
      "67612/67612 [==============================] - 1s 10us/sample - loss: 0.3715 - val_loss: 0.3582\n",
      "Epoch 73/300\n",
      "67612/67612 [==============================] - 1s 11us/sample - loss: 0.3727 - val_loss: 0.3572\n",
      "Epoch 74/300\n",
      "67612/67612 [==============================] - 1s 10us/sample - loss: 0.3717 - val_loss: 0.3573\n",
      "Epoch 75/300\n",
      "67612/67612 [==============================] - 1s 10us/sample - loss: 0.3706 - val_loss: 0.3574\n",
      "Epoch 76/300\n",
      "67612/67612 [==============================] - 1s 10us/sample - loss: 0.3695 - val_loss: 0.3577\n",
      "Epoch 77/300\n",
      "67612/67612 [==============================] - 1s 10us/sample - loss: 0.3708 - val_loss: 0.3574\n",
      "Epoch 78/300\n",
      "67612/67612 [==============================] - 1s 10us/sample - loss: 0.3707 - val_loss: 0.3570\n",
      "Epoch 79/300\n",
      "67612/67612 [==============================] - 1s 10us/sample - loss: 0.3695 - val_loss: 0.3570\n",
      "Epoch 80/300\n",
      "67612/67612 [==============================] - 1s 10us/sample - loss: 0.3708 - val_loss: 0.3568\n",
      "Epoch 81/300\n",
      "67612/67612 [==============================] - 1s 10us/sample - loss: 0.3699 - val_loss: 0.3573\n",
      "Epoch 82/300\n",
      "67612/67612 [==============================] - 1s 11us/sample - loss: 0.3697 - val_loss: 0.3568\n",
      "Epoch 83/300\n",
      "67612/67612 [==============================] - 1s 10us/sample - loss: 0.3688 - val_loss: 0.3567\n",
      "Epoch 84/300\n",
      "67612/67612 [==============================] - 1s 10us/sample - loss: 0.3688 - val_loss: 0.3569\n",
      "Epoch 85/300\n",
      "67612/67612 [==============================] - 1s 10us/sample - loss: 0.3682 - val_loss: 0.3567\n",
      "Epoch 86/300\n",
      "67612/67612 [==============================] - 1s 10us/sample - loss: 0.3686 - val_loss: 0.3565\n",
      "Epoch 87/300\n",
      "67612/67612 [==============================] - 1s 10us/sample - loss: 0.3681 - val_loss: 0.3566\n",
      "Epoch 88/300\n",
      "67612/67612 [==============================] - 1s 10us/sample - loss: 0.3683 - val_loss: 0.3568\n",
      "Epoch 89/300\n",
      "67612/67612 [==============================] - 1s 10us/sample - loss: 0.3684 - val_loss: 0.3565\n",
      "Epoch 90/300\n",
      "67612/67612 [==============================] - 1s 10us/sample - loss: 0.3679 - val_loss: 0.3566\n",
      "Epoch 91/300\n",
      "67612/67612 [==============================] - 1s 10us/sample - loss: 0.3678 - val_loss: 0.3564\n",
      "Epoch 92/300\n",
      "67612/67612 [==============================] - 1s 10us/sample - loss: 0.3679 - val_loss: 0.3571\n",
      "Epoch 93/300\n",
      "67612/67612 [==============================] - 1s 10us/sample - loss: 0.3679 - val_loss: 0.3566\n",
      "Epoch 94/300\n",
      "67612/67612 [==============================] - 1s 10us/sample - loss: 0.3668 - val_loss: 0.3562\n",
      "Epoch 95/300\n",
      "67612/67612 [==============================] - 1s 10us/sample - loss: 0.3669 - val_loss: 0.3563\n",
      "Epoch 96/300\n",
      "67612/67612 [==============================] - 1s 10us/sample - loss: 0.3675 - val_loss: 0.3562\n",
      "Epoch 97/300\n",
      "67612/67612 [==============================] - 1s 10us/sample - loss: 0.3676 - val_loss: 0.3562\n",
      "Epoch 98/300\n",
      "67612/67612 [==============================] - 1s 10us/sample - loss: 0.3674 - val_loss: 0.3575\n",
      "Epoch 99/300\n",
      "67612/67612 [==============================] - 1s 10us/sample - loss: 0.3664 - val_loss: 0.3568\n",
      "Epoch 00099: early stopping\n"
     ]
    },
    {
     "data": {
      "text/plain": [
       "<tensorflow.python.keras.callbacks.History at 0x7f88498efbd0>"
      ]
     },
     "execution_count": 13,
     "metadata": {},
     "output_type": "execute_result"
    }
   ],
   "source": [
    "model.fit(x=X_train, \n",
    "          y=y_train, \n",
    "          epochs=300,\n",
    "          validation_data=(X_test, y_test), verbose=1,\n",
    "          callbacks=[early_stop],\n",
    "          batch_size =15000\n",
    "          )"
   ]
  },
  {
   "cell_type": "code",
   "execution_count": 14,
   "metadata": {},
   "outputs": [
    {
     "data": {
      "text/html": [
       "<div>\n",
       "<style scoped>\n",
       "    .dataframe tbody tr th:only-of-type {\n",
       "        vertical-align: middle;\n",
       "    }\n",
       "\n",
       "    .dataframe tbody tr th {\n",
       "        vertical-align: top;\n",
       "    }\n",
       "\n",
       "    .dataframe thead th {\n",
       "        text-align: right;\n",
       "    }\n",
       "</style>\n",
       "<table border=\"1\" class=\"dataframe\">\n",
       "  <thead>\n",
       "    <tr style=\"text-align: right;\">\n",
       "      <th></th>\n",
       "      <th>loss</th>\n",
       "      <th>val_loss</th>\n",
       "    </tr>\n",
       "  </thead>\n",
       "  <tbody>\n",
       "    <tr>\n",
       "      <th>98</th>\n",
       "      <td>0.366388</td>\n",
       "      <td>0.356787</td>\n",
       "    </tr>\n",
       "  </tbody>\n",
       "</table>\n",
       "</div>"
      ],
      "text/plain": [
       "        loss  val_loss\n",
       "98  0.366388  0.356787"
      ]
     },
     "execution_count": 14,
     "metadata": {},
     "output_type": "execute_result"
    },
    {
     "data": {
      "image/png": "[encoded data removed]",
      "text/plain": [
       "<Figure size 432x288 with 1 Axes>"
      ]
     },
     "metadata": {
      "needs_background": "light"
     },
     "output_type": "display_data"
    }
   ],
   "source": [
    "losses = pd.DataFrame(model.history.history)\n",
    "losses.plot()\n",
    "losses[-1:]"
   ]
  },
  {
   "cell_type": "code",
   "execution_count": 15,
   "metadata": {},
   "outputs": [
    {
     "name": "stdout",
     "output_type": "stream",
     "text": [
      "              precision    recall  f1-score   support\n",
      "\n",
      "           0       0.82      0.79      0.80     14637\n",
      "           1       0.79      0.82      0.81     14340\n",
      "\n",
      "    accuracy                           0.80     28977\n",
      "   macro avg       0.80      0.80      0.80     28977\n",
      "weighted avg       0.80      0.80      0.80     28977\n",
      "\n"
     ]
    }
   ],
   "source": [
    "predictions = (model.predict(X_test) > 0.5).astype(\"int32\")\n",
    "print(classification_report(y_test,predictions))"
   ]
  },
  {
   "cell_type": "markdown",
   "metadata": {},
   "source": [
    "## Saving the Model"
   ]
  },
  {
   "cell_type": "code",
   "execution_count": 16,
   "metadata": {},
   "outputs": [],
   "source": [
    "model.save(\"loan_project_model.h5\")"
   ]
  }
 ],
 "metadata": {
  "kernelspec": {
   "display_name": "Python 3 (ipykernel)",
   "language": "python",
   "name": "python3"
  },
  "language_info": {
   "codemirror_mode": {
    "name": "ipython",
    "version": 3
   },
   "file_extension": ".py",
   "mimetype": "text/x-python",
   "name": "python",
   "nbconvert_exporter": "python",
   "pygments_lexer": "ipython3",
   "version": "3.7.11"
  }
 },
 "nbformat": 4,
 "nbformat_minor": 2
}
